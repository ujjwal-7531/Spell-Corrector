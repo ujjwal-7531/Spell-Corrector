{
  "cells": [
    {
      "cell_type": "code",
      "execution_count": 42,
      "id": "1501a141",
      "metadata": {
        "id": "1501a141"
      },
      "outputs": [],
      "source": [
        "import re\n",
        "import pickle\n",
        "import pandas as pd\n",
        "from tqdm import tqdm"
      ]
    },
    {
      "cell_type": "markdown",
      "id": "93fa0d85",
      "metadata": {
        "id": "93fa0d85"
      },
      "source": [
        "## 1. Finding the Unique Words"
      ]
    },
    {
      "cell_type": "code",
      "execution_count": 3,
      "id": "4bcf567c",
      "metadata": {
        "id": "4bcf567c"
      },
      "outputs": [],
      "source": [
        "with open('big.txt','r') as fd:\n",
        "    lines = fd.readlines()\n",
        "    words = []\n",
        "    for line in lines:\n",
        "        words += re.findall(r\"[\\w]+\",line.lower())\n",
        "\n",
        "words = [word for word in words if len(word)>0]\n",
        "vocab = list(set(words))"
      ]
    },
    {
      "cell_type": "markdown",
      "id": "fa18e251",
      "metadata": {
        "id": "fa18e251"
      },
      "source": [
        "## 2. Finding the Probability Distribution"
      ]
    },
    {
      "cell_type": "code",
      "execution_count": null,
      "id": "c0c62ce8",
      "metadata": {
        "colab": {
          "base_uri": "https://localhost:8080/"
        },
        "id": "c0c62ce8",
        "outputId": "7059d2f8-d43d-4bc5-9a08-b666dd741fe9"
      },
      "outputs": [
        {
          "name": "stderr",
          "output_type": "stream",
          "text": [
            "100%|██████████| 19236/19236 [01:49<00:00, 174.97it/s]\n"
          ]
        }
      ],
      "source": [
        "word_prob = {}\n",
        "for word in tqdm(vocab):\n",
        "    word_prob[word] = float(words.count(word)/len(words))"
      ]
    },
    {
      "cell_type": "markdown",
      "id": "hSyYe7s1n8gJ",
      "metadata": {
        "id": "hSyYe7s1n8gJ"
      },
      "source": [
        "## Saving Word Probability Dictionary"
      ]
    },
    {
      "cell_type": "code",
      "execution_count": 43,
      "id": "PKsaOzkCn4eu",
      "metadata": {
        "id": "PKsaOzkCn4eu"
      },
      "outputs": [],
      "source": [
        "f = open('dick.pkl', 'wb')\n",
        "pickle.dump(dict, f)\n",
        "f.close()"
      ]
    },
    {
      "cell_type": "markdown",
      "id": "66ed4979",
      "metadata": {
        "id": "66ed4979"
      },
      "source": [
        "## 3. Text Preprocessing\n",
        "### Splitting"
      ]
    },
    {
      "cell_type": "code",
      "execution_count": 5,
      "id": "f2aae05d",
      "metadata": {
        "id": "f2aae05d"
      },
      "outputs": [],
      "source": [
        "def split(word):\n",
        "    parts = []\n",
        "    for i in range(len(word)+1):\n",
        "        parts += [(word[:i], word[i:])]\n",
        "    return parts"
      ]
    },
    {
      "cell_type": "markdown",
      "id": "737c9ccc",
      "metadata": {
        "id": "737c9ccc"
      },
      "source": [
        "### 3.1) Delete\n",
        "\n",
        "'tthe' -> 'the'"
      ]
    },
    {
      "cell_type": "code",
      "execution_count": 7,
      "id": "3e7d378d",
      "metadata": {
        "colab": {
          "base_uri": "https://localhost:8080/"
        },
        "id": "3e7d378d",
        "outputId": "110194fa-6d65-493f-ae18-a90a87ae7b76"
      },
      "outputs": [
        {
          "data": {
            "text/plain": [
              "['the', 'the', 'tte', 'tth', 'tthe']"
            ]
          },
          "execution_count": 7,
          "metadata": {},
          "output_type": "execute_result"
        }
      ],
      "source": [
        "def delete(word):\n",
        "    output = []\n",
        "    for l,r in split(word):\n",
        "        output.append(l+r[1:])\n",
        "    return output\n",
        "\n",
        "delete('tthe')"
      ]
    },
    {
      "cell_type": "markdown",
      "id": "79a0b064",
      "metadata": {
        "id": "79a0b064"
      },
      "source": [
        "### 3.2) Swap\n",
        "\n",
        "'fro' -> 'for'"
      ]
    },
    {
      "cell_type": "code",
      "execution_count": 9,
      "id": "c6745abb",
      "metadata": {
        "colab": {
          "base_uri": "https://localhost:8080/"
        },
        "id": "c6745abb",
        "outputId": "5665cffe-ad76-4ba4-f4e1-71cb87d5fd20"
      },
      "outputs": [
        {
          "data": {
            "text/plain": [
              "['rfo', 'for']"
            ]
          },
          "execution_count": 9,
          "metadata": {},
          "output_type": "execute_result"
        }
      ],
      "source": [
        "def swap(word):\n",
        "    output = []\n",
        "    for l,r in split(word):\n",
        "        if (len(r) > 1):\n",
        "            output.append(l + r[1] + r[0] + r[2:])\n",
        "    return output\n",
        "\n",
        "swap('fro')"
      ]
    },
    {
      "cell_type": "markdown",
      "id": "d9bf6f61",
      "metadata": {
        "id": "d9bf6f61"
      },
      "source": [
        "### 3.3) Replace\n",
        "\n",
        "'lave' -> 'love'"
      ]
    },
    {
      "cell_type": "code",
      "execution_count": 12,
      "id": "4b3651b3",
      "metadata": {
        "id": "4b3651b3"
      },
      "outputs": [],
      "source": [
        "def replace(word):\n",
        "    characters = 'abcdefghijklmnopqrstuvwxyz'\n",
        "    output = []\n",
        "    for l,r in split(word):\n",
        "        for char in characters:\n",
        "            output.append(l + char +  r[1:])\n",
        "    return output"
      ]
    },
    {
      "cell_type": "markdown",
      "id": "f975e95e",
      "metadata": {
        "id": "f975e95e"
      },
      "source": [
        "### 3.4) Insert\n",
        "\n",
        "'lve' -> 'love'"
      ]
    },
    {
      "cell_type": "code",
      "execution_count": 14,
      "id": "ae1d7f39",
      "metadata": {
        "id": "ae1d7f39"
      },
      "outputs": [],
      "source": [
        "def insert(word):\n",
        "    characters = 'abcdefghijklmnopqrstuvwxyz'\n",
        "    output = []\n",
        "    for l,r in split(word):\n",
        "        for char in characters:\n",
        "            output.append(l + char + r)\n",
        "    return output"
      ]
    },
    {
      "cell_type": "markdown",
      "id": "7331bb1d",
      "metadata": {
        "id": "7331bb1d"
      },
      "source": [
        "## 4. Finding the Prediction (Level - 1)\n",
        "### 4.1) Combining Possible Words"
      ]
    },
    {
      "cell_type": "code",
      "execution_count": 17,
      "id": "6c71a178",
      "metadata": {
        "colab": {
          "base_uri": "https://localhost:8080/"
        },
        "id": "6c71a178",
        "outputId": "823ba654-d18a-4903-9e25-bbfbc735956c"
      },
      "outputs": [
        {
          "data": {
            "text/plain": [
              "338"
            ]
          },
          "execution_count": 17,
          "metadata": {},
          "output_type": "execute_result"
        }
      ],
      "source": [
        "def modify(word):\n",
        "    return list(set(insert(word)+delete(word)+swap(word)+replace(word)))\n",
        "len(modify('fameli'))"
      ]
    },
    {
      "cell_type": "markdown",
      "id": "cc93e601",
      "metadata": {
        "id": "cc93e601"
      },
      "source": [
        "### 4.2) Predicting the Word"
      ]
    },
    {
      "cell_type": "code",
      "execution_count": 31,
      "id": "06ec28dd",
      "metadata": {
        "id": "06ec28dd"
      },
      "outputs": [],
      "source": [
        "def check_spell(word, count = 5):\n",
        "    output = []\n",
        "    suggested_words = modify(word)\n",
        "    for w in suggested_words:\n",
        "        if w in word_prob.keys():\n",
        "            output.append([word_prob[w],w])\n",
        "    output = sorted(output,reverse=True)\n",
        "\n",
        "    last = []\n",
        "    for i in range(min(count, len(output))):\n",
        "        last.append(output[i][1])\n",
        "\n",
        "    return last"
      ]
    },
    {
      "cell_type": "code",
      "execution_count": 41,
      "id": "a8247abe",
      "metadata": {
        "colab": {
          "base_uri": "https://localhost:8080/"
        },
        "id": "a8247abe",
        "outputId": "b2a8b1f8-fef6-45be-bf84-f5ac12344a8e"
      },
      "outputs": [
        {
          "data": {
            "text/plain": [
              "['old', 'told', 'ltd']"
            ]
          },
          "execution_count": 41,
          "metadata": {},
          "output_type": "execute_result"
        }
      ],
      "source": [
        "check_spell('tld')"
      ]
    },
    {
      "cell_type": "markdown",
      "id": "69419dda",
      "metadata": {
        "id": "69419dda"
      },
      "source": [
        "## 5. Finding the Prediction (Level - 2)\n",
        "### 5.1) Combining Possible Words"
      ]
    },
    {
      "cell_type": "code",
      "execution_count": 40,
      "id": "76a0cce7",
      "metadata": {
        "colab": {
          "base_uri": "https://localhost:8080/"
        },
        "id": "76a0cce7",
        "outputId": "1d174067-8648-4e8e-fcb2-cc8469205192"
      },
      "outputs": [
        {
          "data": {
            "text/plain": [
              "['the', 'and', 'to', 'had', 'all']"
            ]
          },
          "execution_count": 40,
          "metadata": {},
          "output_type": "execute_result"
        }
      ],
      "source": [
        "# def spell_check_edit_2(word, count = 5):\n",
        "\n",
        "#     output = []\n",
        "#     suggested_words = modify(word)       # Level one Edit\n",
        "\n",
        "#     for e1 in modify(word):\n",
        "#         suggested_words += modify(e1)    # Second Level Edit\n",
        "\n",
        "#     suggested_words = list(set(suggested_words))\n",
        "\n",
        "#     for w in suggested_words:\n",
        "#         if w in word_prob.keys():\n",
        "#             output.append([word_prob[w],w])\n",
        "#     output = sorted(output,reverse=True)\n",
        "\n",
        "#     last = []\n",
        "#     for i in range(min(count, len(output))):\n",
        "#         last.append(output[i][1])\n",
        "\n",
        "#     return last\n",
        "\n",
        "# spell_check_edit_2('tld')"
      ]
    },
    {
      "cell_type": "code",
      "execution_count": null,
      "id": "73e258ec",
      "metadata": {
        "id": "73e258ec"
      },
      "outputs": [],
      "source": []
    }
  ],
  "metadata": {
    "accelerator": "GPU",
    "colab": {
      "gpuType": "T4",
      "provenance": []
    },
    "kernelspec": {
      "display_name": "Python 3",
      "name": "python3"
    },
    "language_info": {
      "codemirror_mode": {
        "name": "ipython",
        "version": 3
      },
      "file_extension": ".py",
      "mimetype": "text/x-python",
      "name": "python",
      "nbconvert_exporter": "python",
      "pygments_lexer": "ipython3",
      "version": "3.12.4"
    }
  },
  "nbformat": 4,
  "nbformat_minor": 5
}
